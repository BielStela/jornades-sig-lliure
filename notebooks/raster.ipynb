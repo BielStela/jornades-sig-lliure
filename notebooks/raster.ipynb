{
 "cells": [
  {
   "cell_type": "markdown",
   "id": "edca8ad8-933b-4f4d-ae4b-7bfaeeb52c51",
   "metadata": {},
   "source": [
    "# Raster data\n",
    "\n",
    "## Some basic principles\n",
    "\n",
    "> a raster graphic represents a two-dimensional picture as a rectangular matrix or grid of ~square pixels~\n",
    "<div>\n",
    "<img src=\"../data/images/simple_raster.png\" width=\"500\"/>\n",
    "</div>\n",
    "\n",
    "source: [wikipedia](https://en.wikipedia.org/wiki/Raster_graphics#Image_storage)\n"
   ]
  },
  {
   "cell_type": "code",
   "execution_count": 1,
   "id": "f0ccc4b6-af24-43ba-9daa-2c12e983f47f",
   "metadata": {
    "ExecuteTime": {
     "end_time": "2023-05-02T09:53:22.906500257Z",
     "start_time": "2023-05-02T09:53:22.562746357Z"
    }
   },
   "outputs": [],
   "source": [
    "import matplotlib.pyplot as plt\n",
    "import numpy as np"
   ]
  },
  {
   "cell_type": "code",
   "execution_count": 2,
   "id": "9eaba88d-248d-4e0b-9620-206b10f1f044",
   "metadata": {
    "ExecuteTime": {
     "end_time": "2023-05-02T09:53:23.038896450Z",
     "start_time": "2023-05-02T09:53:22.906938102Z"
    }
   },
   "outputs": [
    {
     "data": {
      "text/plain": "<matplotlib.image.AxesImage at 0x7faef474f190>"
     },
     "execution_count": 2,
     "metadata": {},
     "output_type": "execute_result"
    },
    {
     "data": {
      "text/plain": "<Figure size 640x480 with 1 Axes>",
      "image/png": "[encoded data removed]"
     },
     "metadata": {},
     "output_type": "display_data"
    }
   ],
   "source": [
    "raster = np.random.rand(20, 20)\n",
    "plt.imshow(raster, cmap=\"gray\")"
   ]
  },
  {
   "cell_type": "markdown",
   "id": "a967211e-ec35-4c45-ba69-2543934d8a7a",
   "metadata": {},
   "source": [
    "A simplistic representation of an image is just an array of shape `x, y, 3` where the last axis represents the red, green and blue chanels."
   ]
  },
  {
   "cell_type": "code",
   "execution_count": 3,
   "id": "591728c7-3a21-4b00-a1eb-166a7b3ba795",
   "metadata": {
    "ExecuteTime": {
     "end_time": "2023-05-02T09:53:47.273977570Z",
     "start_time": "2023-05-02T09:53:47.181200133Z"
    }
   },
   "outputs": [
    {
     "data": {
      "text/plain": "<matplotlib.image.AxesImage at 0x7faeec4e2e00>"
     },
     "execution_count": 3,
     "metadata": {},
     "output_type": "execute_result"
    },
    {
     "data": {
      "text/plain": "<Figure size 640x480 with 1 Axes>",
      "image/png": "[encoded data removed]"
     },
     "metadata": {},
     "output_type": "display_data"
    }
   ],
   "source": [
    "image = np.random.rand(5, 5, 3)\n",
    "plt.imshow(image)"
   ]
  },
  {
   "cell_type": "code",
   "execution_count": 4,
   "id": "195fd7d0-30ba-479f-8775-c4531384095e",
   "metadata": {
    "ExecuteTime": {
     "end_time": "2023-05-02T09:53:59.774911204Z",
     "start_time": "2023-05-02T09:53:59.596062161Z"
    }
   },
   "outputs": [
    {
     "data": {
      "text/plain": "<matplotlib.image.AxesImage at 0x7faeec4b89d0>"
     },
     "execution_count": 4,
     "metadata": {},
     "output_type": "execute_result"
    },
    {
     "data": {
      "text/plain": "<Figure size 640x480 with 3 Axes>",
      "image/png": "[encoded data removed]"
     },
     "metadata": {},
     "output_type": "display_data"
    }
   ],
   "source": [
    "_, axs = plt.subplots(1, 3)\n",
    "axs[0].imshow(image[:, :, 0], cmap=\"Reds\")\n",
    "axs[1].imshow(image[:, :, 1], cmap=\"Greens\")\n",
    "axs[2].imshow(image[:, :, 2], cmap=\"Blues\")"
   ]
  },
  {
   "cell_type": "code",
   "execution_count": 5,
   "id": "3f4e2dee-7205-46f9-baa6-2727af17e006",
   "metadata": {
    "ExecuteTime": {
     "end_time": "2023-05-02T09:53:59.924120869Z",
     "start_time": "2023-05-02T09:53:59.904864117Z"
    }
   },
   "outputs": [],
   "source": [
    "plt.imsave(\"example.png\", image)"
   ]
  },
  {
   "cell_type": "markdown",
   "id": "30486de0-17d8-4725-a44a-f352ed315bc9",
   "metadata": {},
   "source": [
    "## But...  maps?\n",
    "\n",
    "Rasters can be _georeferenced_ to represent data on earth surface. \n",
    "\n",
    "In order to make it work we need to know\n",
    "- where the raster is on earth\n",
    "- the size of the pixels\n",
    "- which reference system we are using: the Coordinate Reference System (CRS)\n",
    "\n",
    "All this adds new metadata to our simple image format.\n",
    "\n",
    "Here is where we will take advantage of libraries like [Rasterio](https://rasterio.readthedocs.io/en/latest/index.html).\n",
    "\n",
    "Let's try to convert our image to fully privileged geospatial raster"
   ]
  },
  {
   "cell_type": "code",
   "execution_count": 9,
   "id": "693de50e-7352-416b-9c4f-c97b8ec1085c",
   "metadata": {
    "ExecuteTime": {
     "end_time": "2023-05-02T09:57:46.279868555Z",
     "start_time": "2023-05-02T09:57:46.261700103Z"
    }
   },
   "outputs": [],
   "source": [
    "import rasterio as rio\n",
    "from rasterio.transform import Affine\n",
    "from rasterio.plot import reshape_as_raster, reshape_as_image\n",
    "\n",
    "# we are going to use a lat long projection so units must be in degrees\n",
    "crs = \"+proj=latlong\"\n",
    "# crs can also be defined using the espg code\n",
    "crs = \"epsg:4326\"\n",
    "\n",
    "# note it is negative! we are defining things from the upper left corner.\n",
    "xres, yres = 0.0010, -0.0010\n",
    "\n",
    "transform = Affine.translation(2.944591, 39.445561) * Affine.scale(xres, yres)\n",
    "\n",
    "with rio.open(\n",
    "    \"raster.tiff\",\n",
    "    mode=\"w\",\n",
    "    height=image.shape[0],\n",
    "    width=image.shape[1],\n",
    "    count=3,  # number of band\n",
    "    dtype=image.dtype,\n",
    "    crs=crs,\n",
    "    transform=transform,\n",
    ") as new_raster:\n",
    "\n",
    "    # rasterio wants the axis in the order bands, cols, rows.\n",
    "    new_raster.write(reshape_as_raster(image))"
   ]
  },
  {
   "cell_type": "markdown",
   "id": "5d913e40-9a4b-43d7-a4c5-e68d88a8d0ff",
   "metadata": {},
   "source": [
    "\\- wowowo hold your horses, what is this affine, why multiply !?\n",
    "\n",
    "\\- It is just a way to define the upper left origin of our raster and the pixel size! it's super simple, you just needs to use a little bit of **linear algebra**\n",
    "\n",
    "\\* _leaves_\n"
   ]
  },
  {
   "cell_type": "code",
   "execution_count": 7,
   "id": "72321819-1a06-4b67-98b9-2d62df661ea5",
   "metadata": {
    "ExecuteTime": {
     "end_time": "2023-05-02T09:54:40.187495188Z",
     "start_time": "2023-05-02T09:54:40.169826941Z"
    }
   },
   "outputs": [
    {
     "name": "stdout",
     "output_type": "stream",
     "text": [
      "| 0.01, 0.00, 2.94|\n",
      "| 0.00,-0.01, 39.45|\n",
      "| 0.00, 0.00, 1.00|\n"
     ]
    }
   ],
   "source": [
    "print(transform)"
   ]
  },
  {
   "cell_type": "markdown",
   "id": "fa65d53f-a364-4e5c-b487-160f16ec0669",
   "metadata": {},
   "source": [
    "\\* Disclaimer: Sorry to all the people who knows linear algebra. I'm trying to do my best and be short\n",
    "\n",
    "The `transform` variable is an `Affine`  object that represents an affine transformation like:\n",
    "\n",
    "\n",
    "$$\n",
    "\\begin{vmatrix}\n",
    "    x' \\\\\n",
    "    y' \\\\\n",
    "    1\n",
    "\\end{vmatrix}\n",
    "= \n",
    "\\begin{vmatrix}\n",
    "    a & b & c \\\\\n",
    "    d & e & f \\\\\n",
    "    0 & 0 & 1\n",
    "\\end{vmatrix}\n",
    "\\ \n",
    "\\begin{vmatrix}\n",
    "    x \\\\\n",
    "    y \\\\\n",
    "    1\n",
    "\\end{vmatrix}\n",
    "$$\n",
    "\n",
    "Here with the matrix $\\begin{vmatrix} a & b & c \\\\ d & e & f \\\\ 0 & 0 & 1\\end{vmatrix}$ we transform the image coordinates $x, y$ to world coordinates $x', y'$\n",
    "\n",
    "It is quite interesnting how this works but we don't have time. Look into [this](https://pygis.io/docs/d_affine.html) for a slightly deeper explaination or this [videos](https://www.youtube.com/watch?v=fNk_zzaMoSs&list=PLZHQObOWTQDPD3MizzM2xVFitgF8hE_ab) if you want to get a full intuition on what is going on.\n",
    "\n",
    "In our application most of the time we will only need `translate` (move the points) and to `scale`\n",
    "\n",
    "so in the line \n",
    "```python\n",
    "transform = Affine.translation(2.944591, 39.445561) * Affine.scale(xres, yres)\n",
    "```\n",
    "we are saying that our 0,0 pixel (in image coordinates, upper left corner) is at  39.445561°N 2.944591°E and the pixels measure 0.005° each side.\n",
    "\n",
    "_**NOTE** that the units are in degrees because we are using a coordinate reference system that is in degrees!_\n",
    "\n",
    "So the interesnting bits of our transform matrix are:\n",
    "\n",
    "$$\n",
    "\\begin{vmatrix}\n",
    "    x_{size} & \\cdot & x_0 \\\\\n",
    "    \\cdot & y_{size} & y_0 \\\\\n",
    "    \\cdot & \\cdot & \\cdot\n",
    "\\end{vmatrix}\n",
    "$$\n",
    "\n",
    "this is why the affine object looks like:\n",
    "\n",
    "```\n",
    "| 0.005,     0,  2.94|\n",
    "|     0,-0.005, 39.45|\n",
    "|     0,     0,     1|\n",
    "```"
   ]
  },
  {
   "cell_type": "code",
   "execution_count": 8,
   "id": "827911b0-38a5-4631-ac7d-3a3d76bb69a5",
   "metadata": {
    "ExecuteTime": {
     "end_time": "2023-05-02T09:54:48.457380024Z",
     "start_time": "2023-05-02T09:54:48.445704866Z"
    }
   },
   "outputs": [
    {
     "data": {
      "text/plain": "array([11.,  9.,  1.])"
     },
     "execution_count": 8,
     "metadata": {},
     "output_type": "execute_result"
    }
   ],
   "source": [
    "np.asarray(Affine.translation(10, 10) * Affine.scale(1, -1)).reshape(3,3) @ [1, 1, 1]"
   ]
  },
  {
   "cell_type": "markdown",
   "id": "70ddf3fd-a21c-470a-8826-35d54b9b22ff",
   "metadata": {},
   "source": [
    "## Reprojecting\n",
    "\n",
    "Now let's reproject a raster from one CRS to another.\n",
    "\n",
    "But first let's display it.."
   ]
  },
  {
   "cell_type": "code",
   "execution_count": null,
   "id": "ea8f3d70-3a6d-444b-a313-1af8ca635f1b",
   "metadata": {},
   "outputs": [],
   "source": [
    "with rio.open(\"../data/images/cabrera_rgba.tif\") as src:\n",
    "    img = src.read()\n",
    "    img_crs = src.crs\n",
    "    img_extent = rio.plot.plotting_extent(src)\n",
    "    print(src.transform)\n"
   ]
  },
  {
   "cell_type": "code",
   "execution_count": null,
   "id": "b144d2d9-3ea1-41d0-9c8a-b3bbbe7191bf",
   "metadata": {},
   "outputs": [],
   "source": [
    "print(img_extent)\n",
    "print(img_crs)"
   ]
  },
  {
   "cell_type": "code",
   "execution_count": null,
   "id": "9a492d32-e322-4863-9d16-4722c770600a",
   "metadata": {},
   "outputs": [],
   "source": [
    "img.shape"
   ]
  },
  {
   "cell_type": "code",
   "execution_count": null,
   "id": "af9dc856-eb33-4aa9-977d-fb14fc653a14",
   "metadata": {},
   "outputs": [],
   "source": [
    "reshape_as_image(img).shape"
   ]
  },
  {
   "cell_type": "code",
   "execution_count": null,
   "id": "ed699785-8311-429e-871b-e94b64492daf",
   "metadata": {},
   "outputs": [],
   "source": [
    "plt.imshow(reshape_as_image(img))\n",
    "plt.gca().set_axis_off()"
   ]
  },
  {
   "cell_type": "markdown",
   "id": "5aef03d2-a129-44e8-b2e0-5048a066092e",
   "metadata": {},
   "source": [
    "The crs EPSG:32631 is the UTM zone 31, so if we want to display it we should use a map with the same crs or reproject the raster if we want another one.\n",
    "\n",
    "For making simple maps we are going to use matplotlib + [Cartopy](https://github.com/SciTools/cartopy)"
   ]
  },
  {
   "cell_type": "code",
   "execution_count": null,
   "id": "73d32d6a-10ca-4995-8622-51c57b58ec16",
   "metadata": {},
   "outputs": [],
   "source": [
    "import cartopy\n",
    "import cartopy.crs as ccrs\n",
    "from cartopy.mpl.gridliner import LONGITUDE_FORMATTER, LATITUDE_FORMATTER"
   ]
  },
  {
   "cell_type": "markdown",
   "id": "d6f952af-654c-4373-af05-ba60b49efac1",
   "metadata": {},
   "source": [
    "Cartopy \"patches\" matplotlib and allow us to define a projection to the axis"
   ]
  },
  {
   "cell_type": "code",
   "execution_count": null,
   "id": "126831d6-0904-4abd-a311-4edad3b2954c",
   "metadata": {},
   "outputs": [],
   "source": [
    "fig = plt.figure()\n",
    "ax = plt.axes(projection=ccrs.Mercator())\n",
    "\n",
    "x0, x1, y0, y1 = img_extent\n",
    "room = 10_000\n",
    "plot_extent = x0 - room, x1 + room, y0 - room, y1 + room \n",
    "ax.set_extent(plot_extent, crs=ccrs.UTM(\"31\"))\n",
    "\n",
    "ax.imshow(reshape_as_image(img), transform=ccrs.UTM(\"31\"), extent=img_extent)\n",
    "ax.add_feature(cartopy.feature.COASTLINE)\n"
   ]
  },
  {
   "cell_type": "markdown",
   "id": "f48e1506-e6d5-46cc-9bed-9e6d755ae570",
   "metadata": {},
   "source": [
    "_NOTE the coastline resolution is too low for this zoom level. We will fix this in a while._"
   ]
  },
  {
   "cell_type": "code",
   "execution_count": null,
   "id": "8cea4fb1-fef1-4eb9-a501-87de6dca340d",
   "metadata": {},
   "outputs": [],
   "source": [
    "fig = plt.figure()\n",
    "ax = plt.axes(projection=ccrs.Orthographic(central_longitude=-50, central_latitude=50))\n",
    "\n",
    "x0, x1, y0, y1 = img_extent\n",
    "room = 10_000\n",
    "plot_extent = x0 - room, x1 + room, y0 - room, y1 + room \n",
    "ax.set_extent(plot_extent, crs=ccrs.UTM(\"31\"))\n",
    "\n",
    "gl = ax.gridlines(draw_labels=True) \n",
    "gl.top_labels = gl.right_labels = False\n",
    "gl.xformatter = LONGITUDE_FORMATTER\n",
    "gl.yformatter = LATITUDE_FORMATTER\n",
    "\n",
    "ax.imshow(reshape_as_image(img), transform=ccrs.UTM(\"31\"), extent=img_extent)\n",
    "ax.add_feature(cartopy.feature.COASTLINE)"
   ]
  },
  {
   "cell_type": "code",
   "execution_count": null,
   "id": "bd839514-0bf2-499c-b0b8-f74f508e94be",
   "metadata": {},
   "outputs": [],
   "source": [
    "fig = plt.figure()\n",
    "ax = plt.axes(projection=ccrs.Orthographic(central_longitude=-50, central_latitude=50))\n",
    "ax.coastlines()\n",
    "\n",
    "gl = ax.gridlines(draw_labels=True) \n",
    "gl.top_labels = gl.right_labels = False\n",
    "gl.xformatter = LONGITUDE_FORMATTER\n",
    "gl.yformatter = LATITUDE_FORMATTER"
   ]
  },
  {
   "cell_type": "markdown",
   "id": "8ee8d590-af95-4fa8-b0de-c7c8b54d17b7",
   "metadata": {},
   "source": [
    "### Changing CRS of the data\n",
    "\n",
    "For now we have only been changing the projection on the fly for the map.\n",
    "\n",
    "\n",
    "What if we want to do some analysis or store the data in another CRS abd make it persistent?"
   ]
  },
  {
   "cell_type": "code",
   "execution_count": null,
   "id": "1f9b0b7d-3ebf-4983-ba44-ec9d3caac4ca",
   "metadata": {},
   "outputs": [],
   "source": [
    "from rasterio.warp import calculate_default_transform, reproject, Resampling\n",
    "\n",
    "dst_crs = 'EPSG:4326'  # geographical coordinate system that uses lat/long and degrees\n",
    "\n",
    "with rio.open('../data/images/cabrera_rgba.tif') as src:\n",
    "    \n",
    "    transform, width, height = calculate_default_transform(\n",
    "        src.crs, dst_crs, src.width, src.height, *src.bounds, resolution=0.001)\n",
    "    \n",
    "    kwargs = src.meta.copy()\n",
    "    kwargs.update({\n",
    "        'crs': dst_crs,\n",
    "        'transform': transform,\n",
    "        'width': width,\n",
    "        'height': height\n",
    "    })\n",
    "\n",
    "    with rio.open('../data/images/cabrera_rgba_reproj.tif', 'w', **kwargs) as dst:\n",
    "        for i in range(1, src.count + 1):\n",
    "            reproject(\n",
    "                source=rio.band(src, i),\n",
    "                destination=rio.band(dst, i),\n",
    "                src_transform=src.transform,\n",
    "                src_crs=src.crs,\n",
    "                dst_transform=transform,\n",
    "                dst_crs=dst_crs,\n",
    "                resampling=Resampling.nearest)"
   ]
  },
  {
   "cell_type": "code",
   "execution_count": null,
   "id": "2991cbf5-eb7e-4f25-b56a-b7d93daa6511",
   "metadata": {},
   "outputs": [],
   "source": [
    "with rio.open(\"../data/images/cabrera_rgba_reproj.tif\") as src:\n",
    "    print(src.crs)\n",
    "transform"
   ]
  },
  {
   "cell_type": "markdown",
   "id": "4fa051b8-f02d-4b51-9558-6caa34188200",
   "metadata": {},
   "source": [
    "Most of the magic hapens in `calculate_default_transform` where we calculate the new Affine matrix for the destination crs.\n",
    "\n",
    "Then `reproject` deals with witring the new data with the correct metadata."
   ]
  },
  {
   "cell_type": "markdown",
   "id": "e975134a-d080-4456-b6e4-a17ba4eaa53d",
   "metadata": {
    "tags": []
   },
   "source": [
    "## Xarray + Rasterio!"
   ]
  },
  {
   "cell_type": "code",
   "execution_count": null,
   "id": "11c9766e-79d3-4545-81bb-252c86c43c8c",
   "metadata": {},
   "outputs": [],
   "source": [
    "import rioxarray"
   ]
  },
  {
   "cell_type": "code",
   "execution_count": null,
   "id": "a07ab3b0-55c7-443b-879b-6cd03fec4b47",
   "metadata": {},
   "outputs": [],
   "source": [
    "raster = rioxarray.open_rasterio(\"../data/images/cabrera_rgba.tif\")"
   ]
  },
  {
   "cell_type": "code",
   "execution_count": null,
   "id": "1b61cd9e-1768-465a-a433-33a532c96c0b",
   "metadata": {},
   "outputs": [],
   "source": [
    "raster"
   ]
  },
  {
   "cell_type": "code",
   "execution_count": null,
   "id": "8b82d8a4-c41c-47be-9f7f-9369a612a1bc",
   "metadata": {},
   "outputs": [],
   "source": [
    "raster.plot.imshow()"
   ]
  },
  {
   "cell_type": "code",
   "execution_count": null,
   "id": "7dedd625-75ea-466f-8ef8-cdc64335282f",
   "metadata": {},
   "outputs": [],
   "source": [
    "import geopandas as gpd"
   ]
  },
  {
   "cell_type": "code",
   "execution_count": null,
   "id": "a9ec3767-65e2-44cf-9ac7-7388116caa85",
   "metadata": {},
   "outputs": [],
   "source": [
    "coast = gpd.read_file(\"../data/vector/costa_balears.geojson\")\n",
    "coast.head()"
   ]
  },
  {
   "cell_type": "code",
   "execution_count": null,
   "id": "0d6c7409-fcf8-4e90-9c7f-a3879e077591",
   "metadata": {},
   "outputs": [],
   "source": [
    "coast.plot()\n",
    "print(coast.crs)"
   ]
  },
  {
   "cell_type": "markdown",
   "id": "fcc8e3d5-0d71-4d18-88fb-87d80006dd61",
   "metadata": {},
   "source": [
    "Let's remove the sea by clipping it out with the help of the coastline polygon (and rioxarray)."
   ]
  },
  {
   "cell_type": "code",
   "execution_count": null,
   "id": "6b8d97f2-5e66-4731-9ca3-b6336eadc0a1",
   "metadata": {},
   "outputs": [],
   "source": [
    "clipped = raster.rio.clip(coast.geometry.to_list(), crs=coast.crs)"
   ]
  },
  {
   "cell_type": "code",
   "execution_count": null,
   "id": "a1bdf94f-42d5-4e81-a91b-46438b8dce60",
   "metadata": {},
   "outputs": [],
   "source": [
    "clipped.plot.imshow()"
   ]
  },
  {
   "cell_type": "markdown",
   "id": "6b7c3510-f5f3-46b3-b9c2-46dcbf7d881a",
   "metadata": {},
   "source": [
    "How about adding it to an interactive map!?\n",
    "\n",
    "First of all we will need to convert it to world mercator (interactive maps are in world mercator):"
   ]
  },
  {
   "cell_type": "code",
   "execution_count": null,
   "id": "5d7b0892-2d5f-4904-9adf-2853e40a0392",
   "metadata": {},
   "outputs": [],
   "source": [
    "clipped = clipped.rio.reproject(\"epsg:4316\")"
   ]
  },
  {
   "cell_type": "code",
   "execution_count": null,
   "id": "4fa615bb-0e9c-408d-ae35-ed41ef5e6d80",
   "metadata": {},
   "outputs": [],
   "source": [
    "clipped.rio.bounds()"
   ]
  },
  {
   "cell_type": "code",
   "execution_count": null,
   "id": "e0b7dd1c-9379-4ac4-8e36-6d29aac337c7",
   "metadata": {},
   "outputs": [],
   "source": [
    "clipped.rio.crs"
   ]
  },
  {
   "cell_type": "code",
   "execution_count": null,
   "id": "ee4bad67-8d69-4370-b9fb-5d9b80760f1f",
   "metadata": {},
   "outputs": [],
   "source": [
    "import folium\n",
    "from utils import convert_bounds"
   ]
  },
  {
   "cell_type": "code",
   "execution_count": null,
   "id": "cfef9a31-142d-4ab2-8d86-f09eb17c13e1",
   "metadata": {},
   "outputs": [],
   "source": [
    "m = folium.Map([39.1, 2.97], zoom_start=11)\n",
    "folium.raster_layers.ImageOverlay(\n",
    "    image=reshape_as_image(clipped.values),\n",
    "    bounds=convert_bounds(clipped.rio.bounds()),\n",
    "    zindex=1\n",
    ").add_to(m)\n",
    "\n",
    "folium.LayerControl().add_to(m)\n",
    "m"
   ]
  }
 ],
 "metadata": {
  "kernelspec": {
   "display_name": "Python 3 (ipykernel)",
   "language": "python",
   "name": "python3"
  },
  "language_info": {
   "codemirror_mode": {
    "name": "ipython",
    "version": 3
   },
   "file_extension": ".py",
   "mimetype": "text/x-python",
   "name": "python",
   "nbconvert_exporter": "python",
   "pygments_lexer": "ipython3",
   "version": "3.10.8"
  }
 },
 "nbformat": 4,
 "nbformat_minor": 5
}
