{
 "cells": [
  {
   "cell_type": "markdown",
   "metadata": {},
   "source": [
    "# Cloud Optimized Geotiff\n",
    "\n",
    "In short, a cloud-optimized GeoTIFF (COG) is a geospatial data file format designed for efficient storage, access, and processing in cloud computing environments. It divides the image data into smaller tiles, includes multiple versions of the image at different resolutions, optimizes metadata organization, and supports incremental data retrieval. COGs enable faster data access and processing in the cloud, making them ideal for large-scale geospatial analysis and visualization.\n",
    "\n",
    "> \"As a cartographer of old, I have witnessed the winds of change carry our maps from parchment to pixels. The Cloud-Optimized GeoTIFF, a marvel of modern ingenuity, transcends the boundaries of time and space. It breathes life into geospatial data, transforming it into a nimble and scalable form that dances effortlessly across the celestial canvas. Like a masterful cartographic symphony, COG orchestrates the harmony between efficient storage, seamless access, and celestial processing, empowering explorers to chart uncharted territories with grace and precision.\"\n",
    ">\n",
    "> ChatGPT\n",
    "\n",
    "- [Open Geospatial Consortium COG spec](https://github.com/opengeospatial/CloudOptimizedGeoTIFF)\n",
    "\n",
    "To work with cogs, we will use `rio-cogeo`, `rio-tiler` and `cog-worker`"
   ]
  },
  {
   "cell_type": "code",
   "execution_count": null,
   "metadata": {
    "ExecuteTime": {
     "end_time": "2023-06-07T13:49:34.498151994Z",
     "start_time": "2023-06-07T13:49:34.494511574Z"
    }
   },
   "outputs": [],
   "source": [
    "import numpy as np\n",
    "import rasterio as rio\n",
    "from rio_tiler.io import Reader\n",
    "import matplotlib.pyplot as plt\n",
    "import folium\n",
    "\n",
    "import utils"
   ]
  },
  {
   "cell_type": "raw",
   "metadata": {
    "ExecuteTime": {
     "end_time": "2023-06-07T14:21:13.604745980Z",
     "start_time": "2023-06-07T14:20:19.218175976Z"
    },
    "collapsed": false,
    "jupyter": {
     "outputs_hidden": false
    }
   },
   "source": [
    "!wget -O ../data/sentinel_cog.tif https://sentinel-cogs.s3.us-west-2.amazonaws.com/sentinel-s2-l2a-cogs/36/Q/WD/2020/7/S2A_36QWD_20200701_0_L2A/TCI.tif"
   ]
  },
  {
   "cell_type": "code",
   "execution_count": null,
   "metadata": {
    "ExecuteTime": {
     "end_time": "2023-06-07T14:21:14.551871856Z",
     "start_time": "2023-06-07T14:21:13.607514049Z"
    },
    "collapsed": false,
    "jupyter": {
     "outputs_hidden": false
    }
   },
   "outputs": [],
   "source": [
    "!rio cogeo info ../data/sentinel_cog.tif"
   ]
  },
  {
   "cell_type": "markdown",
   "metadata": {},
   "source": [
    "### Full raster"
   ]
  },
  {
   "cell_type": "code",
   "execution_count": null,
   "metadata": {
    "collapsed": false,
    "jupyter": {
     "outputs_hidden": false
    }
   },
   "outputs": [],
   "source": [
    "%%time\n",
    "with rio.open(\"../data/sentinel_cog.tif\") as src:\n",
    "    data = src.read()"
   ]
  },
  {
   "cell_type": "code",
   "execution_count": null,
   "metadata": {},
   "outputs": [],
   "source": [
    "ax = rio.plot.show(data)"
   ]
  },
  {
   "cell_type": "markdown",
   "metadata": {},
   "source": [
    "## Overviews"
   ]
  },
  {
   "cell_type": "code",
   "execution_count": null,
   "metadata": {},
   "outputs": [],
   "source": [
    "decimations = [2**x for x in range(5)]\n",
    "decimations"
   ]
  },
  {
   "cell_type": "code",
   "execution_count": null,
   "metadata": {},
   "outputs": [],
   "source": [
    "overviews = []\n",
    "with rio.open(\"../data/sentinel_cog.tif\") as src:\n",
    "    bounds_4326 = rio.warp.transform_bounds(src.crs, \"epsg:4316\", *src.bounds)\n",
    "    for overview_level in decimations:\n",
    "        # Reading into a given shape, makes rasterio \n",
    "        # to read from the overviews. Controling the shape\n",
    "        # we can control wich overview are we reading from\n",
    "        out_shape = (3, src.shape[0]//overview_level , src.shape[1]//overview_level)\n",
    "        arr = np.empty(shape=out_shape).astype(src.profile['dtype'])\n",
    "        arr = src.read(out=arr)\n",
    "        overviews.append(arr)\n",
    "        print(out_shape)\n",
    "        rio.plot.show(arr)"
   ]
  },
  {
   "cell_type": "code",
   "execution_count": null,
   "metadata": {},
   "outputs": [],
   "source": [
    "m = folium.Map([16.6, 33.4], zoom_start=11)\n",
    "folium.raster_layers. ImageOverlay(\n",
    "    image=rio.plot.reshape_as_image(overviews[-1]),\n",
    "    bounds=utils.convert_bounds(bounds_4326),\n",
    ").add_to(m)\n",
    "\n",
    "folium.LayerControl().add_to(m)\n",
    "m"
   ]
  },
  {
   "cell_type": "code",
   "execution_count": null,
   "metadata": {},
   "outputs": [],
   "source": []
  }
 ],
 "metadata": {
  "kernelspec": {
   "display_name": "Python 3 (ipykernel)",
   "language": "python",
   "name": "python3"
  },
  "language_info": {
   "codemirror_mode": {
    "name": "ipython",
    "version": 3
   },
   "file_extension": ".py",
   "mimetype": "text/x-python",
   "name": "python",
   "nbconvert_exporter": "python",
   "pygments_lexer": "ipython3",
   "version": "3.11.3"
  }
 },
 "nbformat": 4,
 "nbformat_minor": 4
}
