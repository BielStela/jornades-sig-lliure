{
 "cells": [
  {
   "cell_type": "code",
   "execution_count": 5,
   "metadata": {
    "collapsed": true,
    "ExecuteTime": {
     "end_time": "2023-06-07T13:49:34.498151994Z",
     "start_time": "2023-06-07T13:49:34.494511574Z"
    }
   },
   "outputs": [],
   "source": [
    "import numpy as np\n",
    "import rasterio as rio\n",
    "from rio_tiler.io import Reader\n",
    "import matplotlib.pyplot as plt\n"
   ]
  },
  {
   "cell_type": "code",
   "execution_count": 9,
   "outputs": [
    {
     "name": "stdout",
     "output_type": "stream",
     "text": [
      "--2023-06-07 16:20:19--  https://sentinel-cogs.s3.us-west-2.amazonaws.com/sentinel-s2-l2a-cogs/36/Q/WD/2020/7/S2A_36QWD_20200701_0_L2A/TCI.tif\r\n",
      "Resolving sentinel-cogs.s3.us-west-2.amazonaws.com (sentinel-cogs.s3.us-west-2.amazonaws.com)... 52.92.176.146, 52.92.164.242, 52.92.148.162, ...\r\n",
      "Connecting to sentinel-cogs.s3.us-west-2.amazonaws.com (sentinel-cogs.s3.us-west-2.amazonaws.com)|52.92.176.146|:443... connected.\r\n",
      "HTTP request sent, awaiting response... 200 OK\r\n",
      "Length: 234841786 (224M) [image/tiff]\r\n",
      "Saving to: ‘../data/sentinel_cog.tif’\r\n",
      "\r\n",
      "../data/sentinel_co 100%[===================>] 223.96M  5.92MB/s    in 53s     \r\n",
      "\r\n",
      "2023-06-07 16:21:13 (4.21 MB/s) - ‘../data/sentinel_cog.tif’ saved [234841786/234841786]\r\n",
      "\r\n"
     ]
    }
   ],
   "source": [
    "!wget -O ../data/sentinel_cog.tif https://sentinel-cogs.s3.us-west-2.amazonaws.com/sentinel-s2-l2a-cogs/36/Q/WD/2020/7/S2A_36QWD_20200701_0_L2A/TCI.tif"
   ],
   "metadata": {
    "collapsed": false,
    "ExecuteTime": {
     "end_time": "2023-06-07T14:21:13.604745980Z",
     "start_time": "2023-06-07T14:20:19.218175976Z"
    }
   }
  },
  {
   "cell_type": "code",
   "execution_count": 10,
   "outputs": [
    {
     "name": "stdout",
     "output_type": "stream",
     "text": [
      "\u001B[1mDriver:\u001B[0m GTiff\r\n",
      "\u001B[1mFile:\u001B[0m /home/biel/Vizzuality/dev/jornades-sig-lliure/data/sentinel_cog.tif\r\n",
      "\u001B[1mCOG:\u001B[0m True\r\n",
      "\u001B[1mCompression:\u001B[0m DEFLATE\r\n",
      "\u001B[1mColorSpace:\u001B[0m None\r\n",
      "\r\n",
      "\u001B[1mProfile\u001B[0m\r\n",
      "    \u001B[1mWidth:\u001B[0m            10980\r\n",
      "    \u001B[1mHeight:\u001B[0m           10980\r\n",
      "    \u001B[1mBands:\u001B[0m            3\r\n",
      "    \u001B[1mTiled:\u001B[0m            True\r\n",
      "    \u001B[1mDtype:\u001B[0m            uint8\r\n",
      "    \u001B[1mNoData:\u001B[0m           0.0\r\n",
      "    \u001B[1mAlpha Band:\u001B[0m       False\r\n",
      "    \u001B[1mInternal Mask:\u001B[0m    False\r\n",
      "    \u001B[1mInterleave:\u001B[0m       PIXEL\r\n",
      "    \u001B[1mColorMap:\u001B[0m         False\r\n",
      "    \u001B[1mColorInterp:\u001B[0m      ('red', 'green', 'blue')\r\n",
      "    \u001B[1mScales:\u001B[0m           (1.0, 1.0, 1.0)\r\n",
      "    \u001B[1mOffsets:\u001B[0m          (0.0, 0.0, 0.0)\r\n",
      "\r\n",
      "\u001B[1mGeo\u001B[0m\r\n",
      "    \u001B[1mCrs:\u001B[0m              EPSG:32636\r\n",
      "    \u001B[1mOrigin:\u001B[0m           (499980.0, 1900020.0)\r\n",
      "    \u001B[1mResolution:\u001B[0m       (10.0, -10.0)\r\n",
      "    \u001B[1mBoundingBox:\u001B[0m      (499980.0, 1790220.0, 609780.0, 1900020.0)\r\n",
      "    \u001B[1mMinZoom:\u001B[0m          8\r\n",
      "    \u001B[1mMaxZoom:\u001B[0m          14\r\n",
      "\r\n",
      "\u001B[1mImage Metadata\u001B[0m\r\n",
      "    \u001B[1m\u001B[4mAREA_OR_POINT\u001B[0m: Area\r\n",
      "    \u001B[1m\u001B[4mOVR_RESAMPLING_ALG\u001B[0m: AVERAGE\r\n",
      "\r\n",
      "\u001B[1mImage Structure\u001B[0m\r\n",
      "    \u001B[1m\u001B[4mCOMPRESSION\u001B[0m: DEFLATE\r\n",
      "    \u001B[1m\u001B[4mINTERLEAVE\u001B[0m: PIXEL\r\n",
      "    \u001B[1m\u001B[4mPREDICTOR\u001B[0m: 2\r\n",
      "\r\n",
      "\u001B[1mBand 1\u001B[0m\r\n",
      "    \u001B[1m\u001B[4mColorInterp\u001B[0m: red\r\n",
      "\r\n",
      "\u001B[1mBand 2\u001B[0m\r\n",
      "    \u001B[1m\u001B[4mColorInterp\u001B[0m: green\r\n",
      "\r\n",
      "\u001B[1mBand 3\u001B[0m\r\n",
      "    \u001B[1m\u001B[4mColorInterp\u001B[0m: blue\r\n",
      "\r\n",
      "\u001B[1mIFD\u001B[0m\r\n",
      "    \u001B[1m\u001B[4mId\u001B[0m      \u001B[1m\u001B[4mSize\u001B[0m           \u001B[1m\u001B[4mBlockSize\u001B[0m     \u001B[1m\u001B[4mDecimation\u001B[0m           \r\n",
      "    0       10980x10980    1024x1024     0\r\n",
      "    1       5490x5490      512x512       2\r\n",
      "    2       2745x2745      512x512       4\r\n",
      "    3       1373x1373      512x512       8\r\n",
      "    4       687x687        512x512       16\r\n"
     ]
    }
   ],
   "source": [
    "!rio cogeo info ../data/sentinel_cog.tif"
   ],
   "metadata": {
    "collapsed": false,
    "ExecuteTime": {
     "end_time": "2023-06-07T14:21:14.551871856Z",
     "start_time": "2023-06-07T14:21:13.607514049Z"
    }
   }
  },
  {
   "cell_type": "code",
   "execution_count": null,
   "outputs": [],
   "source": [],
   "metadata": {
    "collapsed": false
   }
  }
 ],
 "metadata": {
  "kernelspec": {
   "display_name": "Python 3",
   "language": "python",
   "name": "python3"
  },
  "language_info": {
   "codemirror_mode": {
    "name": "ipython",
    "version": 2
   },
   "file_extension": ".py",
   "mimetype": "text/x-python",
   "name": "python",
   "nbconvert_exporter": "python",
   "pygments_lexer": "ipython2",
   "version": "2.7.6"
  }
 },
 "nbformat": 4,
 "nbformat_minor": 0
}
